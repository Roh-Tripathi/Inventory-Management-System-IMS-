{
  "nbformat": 4,
  "nbformat_minor": 0,
  "metadata": {
    "colab": {
      "name": "Purchasing Products.ipynb",
      "provenance": []
    },
    "kernelspec": {
      "name": "python3",
      "display_name": "Python 3"
    },
    "language_info": {
      "name": "python"
    }
  },
  "cells": [
    {
      "cell_type": "markdown",
      "metadata": {
        "id": "Sc_doabtMmaL"
      },
      "source": [
        "**Read** **Inventory**"
      ]
    },
    {
      "cell_type": "code",
      "metadata": {
        "id": "Gsg315I2GV6W"
      },
      "source": [
        "import json\n",
        "\n",
        "fd = open(\"Record.json\",'r')\n",
        "r = fd.read()\n",
        "fd.close()\n",
        "\n",
        "Records = json.loads(r)"
      ],
      "execution_count": 2,
      "outputs": []
    },
    {
      "cell_type": "code",
      "metadata": {
        "colab": {
          "base_uri": "https://localhost:8080/"
        },
        "id": "4Y5A2-GQHczd",
        "outputId": "1cd926ef-e9e0-4028-f267-c542180a1e4b"
      },
      "source": [
        "Records"
      ],
      "execution_count": 3,
      "outputs": [
        {
          "output_type": "execute_result",
          "data": {
            "text/plain": [
              "{'1001': {'name': 'Choco Cake', 'pr': 100, 'qn': 34},\n",
              " '1002': {'name': 'Milk Cake', 'pr': 800, 'qn': 100},\n",
              " '1003': {'name': 'Drink', 'pr': 85, 'qn': 100},\n",
              " '1004': {'name': 'Candy', 'pr': 5, 'qn': 1000},\n",
              " '1005': {'name': 'Pen', 'pr': 20, 'qn': 100},\n",
              " '1006': {'name': 'Phone', 'pr': 50000, 'qn': 10},\n",
              " '1007': {'name': 'Mic', 'pr': 1500, 'qn': 0},\n",
              " '1008': {'name': 'Case', 'pr': 599, 'qn': 5},\n",
              " '1009': {'name': 'Keyboard', 'pr': 1999, 'qn': 10},\n",
              " '1010': {'name': 'Table', 'pr': 2000, 'qn': 6},\n",
              " '1011': {'name': 'File', 'pr': 100, 'qn': 190},\n",
              " '1012': {'name': 'Headphones', 'pr': 2000, 'qn': 10},\n",
              " '1013': {'name': 'Cups', 'pr': 290, 'qn': 1000},\n",
              " '1014': {'name': 'lamp', 'pr': 100, 'qn': 100},\n",
              " '1015': {'name': 'AC', 'pr': 10000, 'qn': 190},\n",
              " '1016': {'name': 'copy', 'pr': 100, 'qn': 1000},\n",
              " '1017': {'name': 'bed', 'pr': 10000, 'qn': 5},\n",
              " '1018': {'name': 'table', 'pr': 3000, 'qn': 10},\n",
              " '1019': {'name': 'tshirt', 'pr': 1000, 'qn': 100},\n",
              " '1020': {'name': 'jeans', 'pr': 500, 'qn': 100},\n",
              " '1021': {'name': 'bedsheet', 'pr': 200, 'qn': 100},\n",
              " '1022': {'name': 'belts', 'pr': 1000, 'qn': 100},\n",
              " '1023': {'name': 'door', 'pr': 4000, 'qn': 100},\n",
              " '1024': {'name': 'Remote', 'pr': 200, 'qn': 100},\n",
              " '1025': {'name': 'Cell', 'pr': 10, 'qn': 1000},\n",
              " '1026': {'name': 'window', 'pr': 500, 'qn': 100},\n",
              " '1027': {'name': 'medicines', 'pr': 100, 'qn': 100000},\n",
              " '1029': {'name': 'folder', 'pr': 100, 'qn': 1000},\n",
              " '1030': {'name': 'bike', 'pr': 100000, 'qn': 10}}"
            ]
          },
          "metadata": {},
          "execution_count": 3
        }
      ]
    },
    {
      "cell_type": "markdown",
      "metadata": {
        "id": "5y0FSXujVGL2"
      },
      "source": [
        "**Purchase**"
      ]
    },
    {
      "cell_type": "code",
      "metadata": {
        "colab": {
          "base_uri": "https://localhost:8080/"
        },
        "id": "T6tiKLv2HekV",
        "outputId": "7a3de1aa-974f-40bb-e211-50541eb9539f"
      },
      "source": [
        "ui_prod  = str(input(\"Enter the product_Id: \"))\n",
        "ui_quant = int(input(\"Enter the quantity: \"))\n",
        "\n",
        "\n",
        "print(\"Product: \", Records[ui_prod]['name'])\n",
        "print(\"Price: \", Records[ui_prod]['pr'])\n",
        "print(\"Billing Amount: \", Records[ui_prod]['pr'] * ui_quant)\n",
        "\n",
        "Records[ui_prod]['qn'] = Records[ui_prod]['qn'] - ui_quant"
      ],
      "execution_count": 13,
      "outputs": [
        {
          "output_type": "stream",
          "name": "stdout",
          "text": [
            "Enter the product_Id: 1023\n",
            "Enter the quantity: 2\n",
            "Product:  door\n",
            "Price:  4000\n",
            "Billing Amount:  8000\n"
          ]
        }
      ]
    },
    {
      "cell_type": "markdown",
      "metadata": {
        "id": "xB7DV4-7VNzt"
      },
      "source": [
        "**Update Inventory after purchase**"
      ]
    },
    {
      "cell_type": "code",
      "metadata": {
        "id": "UA3G7P97LyTc"
      },
      "source": [
        "js = json.dumps(Records)\n",
        "\n",
        "fd = open(\"Record.json\",'w')\n",
        "fd.write(js)\n",
        "fd.close()"
      ],
      "execution_count": 14,
      "outputs": []
    },
    {
      "cell_type": "markdown",
      "metadata": {
        "id": "ssdwoaqMVZXX"
      },
      "source": [
        "**Sales** **JSON**"
      ]
    },
    {
      "cell_type": "code",
      "metadata": {
        "colab": {
          "base_uri": "https://localhost:8080/"
        },
        "id": "ELbQPrkFL3mG",
        "outputId": "a46b36e4-ed78-4ca2-8239-7ec03da024f1"
      },
      "source": [
        "{'prod' : ui_prod, 'qn' : ui_quant, 'amount': Records[ui_prod]['pr'] * ui_quant}"
      ],
      "execution_count": 15,
      "outputs": [
        {
          "output_type": "execute_result",
          "data": {
            "text/plain": [
              "{'amount': 8000, 'prod': '1023', 'qn': 2}"
            ]
          },
          "metadata": {},
          "execution_count": 15
        }
      ]
    },
    {
      "cell_type": "code",
      "metadata": {
        "id": "Id3mozgYMHd0"
      },
      "source": [
        "sales = {1 : {'prod' : ui_prod, 'qn' : ui_quant, 'amount': Records[ui_prod]['pr'] * ui_quant},\n",
        "         2 : {'prod' : ui_prod, 'qn' : ui_quant, 'amount': Records[ui_prod]['pr'] * ui_quant},\n",
        "         3 : {'prod' : ui_prod, 'qn' : ui_quant, 'amount': Records[ui_prod]['pr'] * ui_quant}}"
      ],
      "execution_count": 16,
      "outputs": []
    },
    {
      "cell_type": "code",
      "metadata": {
        "id": "RAdfUsLRMIdv"
      },
      "source": [
        "sale = json.dumps(sales)"
      ],
      "execution_count": 17,
      "outputs": []
    },
    {
      "cell_type": "code",
      "metadata": {
        "id": "r3Ze49flWtsz"
      },
      "source": [
        "fd=open(\"Record.json\",'r')\n",
        "r=fd.read()\n",
        "fd.close()"
      ],
      "execution_count": 18,
      "outputs": []
    },
    {
      "cell_type": "code",
      "metadata": {
        "colab": {
          "base_uri": "https://localhost:8080/"
        },
        "id": "tdXXMFreXI5y",
        "outputId": "9197bcd3-9718-4607-cbed-b790944c622e"
      },
      "source": [
        "len(sales)"
      ],
      "execution_count": 19,
      "outputs": [
        {
          "output_type": "execute_result",
          "data": {
            "text/plain": [
              "3"
            ]
          },
          "metadata": {},
          "execution_count": 19
        }
      ]
    }
  ]
}