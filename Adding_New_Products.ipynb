{
  "nbformat": 4,
  "nbformat_minor": 0,
  "metadata": {
    "colab": {
      "name": "Adding New Products.ipynb",
      "provenance": []
    },
    "kernelspec": {
      "name": "python3",
      "display_name": "Python 3"
    },
    "language_info": {
      "name": "python"
    }
  },
  "cells": [
    {
      "cell_type": "markdown",
      "metadata": {
        "id": "ev5V38eyDmY-"
      },
      "source": [
        "**Read Data from JSON**"
      ]
    },
    {
      "cell_type": "code",
      "metadata": {
        "id": "cQPmoxKIRnsQ"
      },
      "source": [
        "import json\n",
        "fd = open(\"Record.json\",'r')\n",
        "r = fd.read()\n",
        "fd.close()\n",
        "\n",
        "Record = json.loads(r)\n"
      ],
      "execution_count": 1,
      "outputs": []
    },
    {
      "cell_type": "code",
      "metadata": {
        "colab": {
          "base_uri": "https://localhost:8080/"
        },
        "id": "PbNbJGEmWsXF",
        "outputId": "b5d5405f-e203-4e79-8c5c-bf035b20764e"
      },
      "source": [
        "Record"
      ],
      "execution_count": 3,
      "outputs": [
        {
          "output_type": "execute_result",
          "data": {
            "text/plain": [
              "{'1001': {'name': 'Choco Cake', 'pr': 100, 'qn': 34},\n",
              " '1002': {'name': 'Milk Cake', 'pr': 800, 'qn': 100},\n",
              " '1003': {'name': 'Drink', 'pr': 85, 'qn': 100},\n",
              " '1004': {'name': 'Candy', 'pr': 5, 'qn': 1000},\n",
              " '1005': {'name': 'Pen', 'pr': 20, 'qn': 100},\n",
              " '1006': {'name': 'Phone', 'pr': 50000, 'qn': 10},\n",
              " '1007': {'name': 'Mic', 'pr': 1500, 'qn': 0},\n",
              " '1008': {'name': 'Case', 'pr': 599, 'qn': 5},\n",
              " '1009': {'name': 'Keyboard', 'pr': 1999, 'qn': 10}}"
            ]
          },
          "metadata": {},
          "execution_count": 3
        }
      ]
    },
    {
      "cell_type": "markdown",
      "metadata": {
        "id": "-4XZOJ9tEHiZ"
      },
      "source": [
        "**Add New Item into Inventory**"
      ]
    },
    {
      "cell_type": "code",
      "metadata": {
        "colab": {
          "base_uri": "https://localhost:8080/"
        },
        "id": "CnLNl82CW353",
        "outputId": "a5e6e5b4-090b-40c6-9164-847512110f5f"
      },
      "source": [
        "prod_id = str(input(\"Enter product id:\"))\n",
        "name = str(input(\"Enter name:\"))\n",
        "pr = int(input(\"Enter price:\"))\n",
        "qn = int(input(\"Enter quantity:\"))\n",
        "\n",
        "Record[prod_id] = {'name': name, 'pr': pr, 'qn': qn}\n",
        "\n",
        "js = json.dumps(Record)\n",
        "\n",
        "fd = open(\"Record.json\",'w')\n",
        "fd.write(js)\n",
        "fd.close()"
      ],
      "execution_count": 44,
      "outputs": [
        {
          "name": "stdout",
          "output_type": "stream",
          "text": [
            "Enter product id:1030\n",
            "Enter name:bike\n",
            "Enter price:100000\n",
            "Enter quantity:10\n"
          ]
        }
      ]
    },
    {
      "cell_type": "code",
      "metadata": {
        "colab": {
          "base_uri": "https://localhost:8080/"
        },
        "id": "wA5Jh6HMXTv0",
        "outputId": "a66a337d-9701-4a92-a597-ee1da8e18a46"
      },
      "source": [
        "Record"
      ],
      "execution_count": 45,
      "outputs": [
        {
          "output_type": "execute_result",
          "data": {
            "text/plain": [
              "{'1001': {'name': 'Choco Cake', 'pr': 100, 'qn': 34},\n",
              " '1002': {'name': 'Milk Cake', 'pr': 800, 'qn': 100},\n",
              " '1003': {'name': 'Drink', 'pr': 85, 'qn': 100},\n",
              " '1004': {'name': 'Candy', 'pr': 5, 'qn': 1000},\n",
              " '1005': {'name': 'Pen', 'pr': 20, 'qn': 100},\n",
              " '1006': {'name': 'Phone', 'pr': 50000, 'qn': 10},\n",
              " '1007': {'name': 'Mic', 'pr': 1500, 'qn': 0},\n",
              " '1008': {'name': 'Case', 'pr': 599, 'qn': 5},\n",
              " '1009': {'name': 'Keyboard', 'pr': 1999, 'qn': 10},\n",
              " '1010': {'name': 'Table', 'pr': 2000, 'qn': 6},\n",
              " '1011': {'name': 'File', 'pr': 100, 'qn': 190},\n",
              " '1012': {'name': 'Headphones', 'pr': 2000, 'qn': 10},\n",
              " '1013': {'name': 'Cups', 'pr': 290, 'qn': 1000},\n",
              " '1014': {'name': 'lamp', 'pr': 100, 'qn': 100},\n",
              " '1015': {'name': 'AC', 'pr': 10000, 'qn': 190},\n",
              " '1016': {'name': 'copy', 'pr': 100, 'qn': 1000},\n",
              " '1017': {'name': 'bed', 'pr': 10000, 'qn': 5},\n",
              " '1018': {'name': 'table', 'pr': 3000, 'qn': 10},\n",
              " '1019': {'name': 'tshirt', 'pr': 1000, 'qn': 100},\n",
              " '1020': {'name': 'jeans', 'pr': 500, 'qn': 100},\n",
              " '1021': {'name': 'bedsheet', 'pr': 200, 'qn': 100},\n",
              " '1022': {'name': 'belts', 'pr': 1000, 'qn': 100},\n",
              " '1023': {'name': 'door', 'pr': 4000, 'qn': 100},\n",
              " '1024': {'name': 'Remote', 'pr': 200, 'qn': 100},\n",
              " '1025': {'name': 'Cell', 'pr': 10, 'qn': 1000},\n",
              " '1026': {'name': 'window', 'pr': 500, 'qn': 100},\n",
              " '1027': {'name': 'medicines', 'pr': 100, 'qn': 100000},\n",
              " '1029': {'name': 'folder', 'pr': 100, 'qn': 1000},\n",
              " '1030': {'name': 'bike', 'pr': 100000, 'qn': 10}}"
            ]
          },
          "metadata": {},
          "execution_count": 45
        }
      ]
    }
  ]
}